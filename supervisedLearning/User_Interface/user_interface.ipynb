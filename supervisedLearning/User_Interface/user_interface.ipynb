{
    "metadata": {
        "kernelspec": {
            "name": "python3",
            "display_name": "Python 3 (ipykernel)",
            "language": "python"
        }
    },
    "nbformat": 4,
    "nbformat_minor": 2,
    "cells": [
        {
            "attachments": {},
            "cell_type": "markdown",
            "metadata": {},
            "source": [
                "# User Interface to Predict Cardiovascular Disease or Diabetes"
            ]
        },
        {
            "cell_type": "code",
            "execution_count": 23,
            "metadata": {},
            "outputs": [],
            "source": [
                "# Import Relavelent Libraries\n",
                "import pandas as pd # for dataframes \u0026 series\n",
                "import numpy as np # for dataframes\n",
                "import pickle"
            ]
        },
        {
            "cell_type": "code",
            "execution_count": 24,
            "metadata": {},
            "outputs": [
                {
                    "name": "stdout",
                    "output_type": "stream",
                    "text": "Welcome to the office of Dr. Diagnosis, please choose the disease you are interested in\n1) Cardiovascular Disease\n2) Diabetes\n"
                }
            ],
            "source": [
                "# Basic print welcome to DrDiagnosis\n",
                "print(\"Welcome to the office of Dr. Diagnosis, please choose the disease you are interested in\")\n",
                "print(\"1) Cardiovascular Disease\\n2) Diabetes\")"
            ]
        },
        {
            "cell_type": "code",
            "execution_count": 25,
            "metadata": {},
            "outputs": [],
            "source": [
                "# obtain user choice for disease\n",
                "userInput = int(input(\"Please enter 1 or 2 for your choice: \"))"
            ]
        },
        {
            "cell_type": "code",
            "execution_count": 26,
            "metadata": {},
            "outputs": [],
            "source": [
                "# declare dictionary of models and their accuracies\n",
                "model_accuracy_dict = {\"cardio\":\n",
                "                            {\"drDiagnosis_LogRegr_cardio.sav\": 0.7209420289855073,\n",
                "                            \"drDiagnosis_MLP_cardio.sav\": 0.7196376811594203,\n",
                "                            \"drDiagnosis_NB_cardio.sav\": 0.7142753623188406},\n",
                "                        \"diabetes\":\n",
                "                            {\"drDiagnosis_LogRegr_diabetes.sav\": 0.7496994129712143,\n",
                "                            \"drDiagnosis_MLP_diabetes.sav\": 0.7535186363957848,\n",
                "                            \"drDiagnosis_NB_diabetes.sav\": 0.7395855435320744}\n",
                "                        } "
            ]
        },
        {
            "cell_type": "code",
            "execution_count": 27,
            "metadata": {},
            "outputs": [
                {
                    "name": "stdout",
                    "output_type": "stream",
                    "text": "Model chosen: drDiagnosis_LogRegr_cardio.sav\t Model Accuracy: 0.7209420289855073\n"
                }
            ],
            "source": [
                "# select model based off user-choice for disease and highest accuracy model\n",
                "# delcare model selection and model accuracy to be populated from model_accuracy_dict above\n",
                "model_selection = \"\"\n",
                "model_accuracy = 0\n",
                "# if Cardiovascular_Disease\n",
                "if(userInput == 1):\n",
                "    model_selection = max(model_accuracy_dict[\"cardio\"], key=model_accuracy_dict[\"cardio\"].get)\n",
                "    model_accuracy = max(model_accuracy_dict[\"cardio\"].values())\n",
                "# if Diabetes\n",
                "elif (userInput == 2):\n",
                "    model_selection = max(model_accuracy_dict[\"diabetes\"], key=model_accuracy_dict[\"diabetes\"].get)\n",
                "    model_accuracy = max(model_accuracy_dict[\"diabetes\"].values())\n",
                "# display model chosen and its respective accuracy\n",
                "print(\"Model chosen: {0}\\t Model Accuracy: {1}\".format(model_selection,model_accuracy))"
            ]
        },
        {
            "cell_type": "code",
            "execution_count": 28,
            "metadata": {},
            "outputs": [],
            "source": [
                "# Load the Model in \"rb\" mode; opens the file in binary format for reading\n",
                "model_selection_path = \"supervisedLearning/models/\"+model_selection\n",
                "loaded_model = pickle.load(open(model_selection_path, 'rb'))"
            ]
        },
        {
            "cell_type": "code",
            "execution_count": 29,
            "metadata": {},
            "outputs": [],
            "source": [
                "# # populate input file dataframe for diagnosing (their medical history / lifestyle)\n",
                "# # ask user for medical history\n",
                "# print(\"Please input your medical history and lifestyle based off the following questions\")\n",
                "\n",
                "# # user information needed for cardiovascular disease\n",
                "# if userInput == 1:\n",
                "#     # load in dataset to obtain colnames\n",
                "#     loaded_dataset = pd.read_csv('supervisedLearning/Cardiovascular_Disease/cardio_dataset.csv', delimiter=';')\n",
                "# # user information need for diabetes\n",
                "# elif userInput == 2:\n",
                "#     # load in dataset to obtain colnames\n",
                "#     loaded_dataset = pd.read_csv('supervisedLearning/Diabetes/diabetes_dataset.csv')\n",
                "\n",
                "# # iterate over colnames and populate patient_history_list\n",
                "# patient_history_list = [0]*len(loaded_dataset.columns.values)\n",
                "# counter = 0\n",
                "# for value in loaded_dataset.columns.values:\n",
                "#     patient_history_list[counter] = input(\"What is your {0}: \".format(value))\n",
                "#     counter += 1\n",
                "\n",
                "# # declare dataframe and populate first row with patient_history\n",
                "# patient_history_df = pd.DataFrame(columns=loaded_dataset.columns.values)\n",
                "# patient_history_df.loc[len(patient_history_df.index)] = patient_history_list "
            ]
        },
        {
            "cell_type": "code",
            "execution_count": 30,
            "metadata": {},
            "outputs": [],
            "source": [
                "# load in example patients\n",
                "if userInput == 1:\n",
                "    patient_history_df = pd.read_csv('supervisedLearning/Cardiovascular_Disease/cardio_patient_dataset.csv', delimiter=';')\n",
                "elif userInput == 2:\n",
                "    patient_history_df = pd.read_csv('supervisedLearning/Diabetes/diabetes_patient_dataset.csv')"
            ]
        },
        {
            "cell_type": "code",
            "execution_count": 31,
            "metadata": {},
            "outputs": [
                {
                    "data": {
                        "text/html": "\u003cdiv\u003e\n\u003cstyle scoped\u003e\n    .dataframe tbody tr th:only-of-type {\n        vertical-align: middle;\n    }\n\n    .dataframe tbody tr th {\n        vertical-align: top;\n    }\n\n    .dataframe thead th {\n        text-align: right;\n    }\n\u003c/style\u003e\n\u003ctable border=\"1\" class=\"dataframe\"\u003e\n  \u003cthead\u003e\n    \u003ctr style=\"text-align: right;\"\u003e\n      \u003cth\u003e\u003c/th\u003e\n      \u003cth\u003eage\u003c/th\u003e\n      \u003cth\u003egender\u003c/th\u003e\n      \u003cth\u003eheight\u003c/th\u003e\n      \u003cth\u003eweight\u003c/th\u003e\n      \u003cth\u003eap_hi\u003c/th\u003e\n      \u003cth\u003eap_lo\u003c/th\u003e\n      \u003cth\u003echolesterol\u003c/th\u003e\n      \u003cth\u003egluc\u003c/th\u003e\n      \u003cth\u003esmoke\u003c/th\u003e\n      \u003cth\u003ealco\u003c/th\u003e\n      \u003cth\u003eactive\u003c/th\u003e\n      \u003cth\u003ecardio\u003c/th\u003e\n      \u003cth\u003eBMI\u003c/th\u003e\n      \u003cth\u003eBP\u003c/th\u003e\n    \u003c/tr\u003e\n  \u003c/thead\u003e\n  \u003ctbody\u003e\n    \u003ctr\u003e\n      \u003cth\u003e0\u003c/th\u003e\n      \u003ctd\u003e4\u003c/td\u003e\n      \u003ctd\u003e2\u003c/td\u003e\n      \u003ctd\u003e2\u003c/td\u003e\n      \u003ctd\u003e62.0\u003c/td\u003e\n      \u003ctd\u003e110\u003c/td\u003e\n      \u003ctd\u003e80\u003c/td\u003e\n      \u003ctd\u003e1\u003c/td\u003e\n      \u003ctd\u003e1\u003c/td\u003e\n      \u003ctd\u003e0\u003c/td\u003e\n      \u003ctd\u003e0\u003c/td\u003e\n      \u003ctd\u003e1\u003c/td\u003e\n      \u003ctd\u003e0\u003c/td\u003e\n      \u003ctd\u003e1\u003c/td\u003e\n      \u003ctd\u003e2.0\u003c/td\u003e\n    \u003c/tr\u003e\n    \u003ctr\u003e\n      \u003cth\u003e1\u003c/th\u003e\n      \u003ctd\u003e4\u003c/td\u003e\n      \u003ctd\u003e1\u003c/td\u003e\n      \u003ctd\u003e1\u003c/td\u003e\n      \u003ctd\u003e85.0\u003c/td\u003e\n      \u003ctd\u003e140\u003c/td\u003e\n      \u003ctd\u003e90\u003c/td\u003e\n      \u003ctd\u003e3\u003c/td\u003e\n      \u003ctd\u003e1\u003c/td\u003e\n      \u003ctd\u003e0\u003c/td\u003e\n      \u003ctd\u003e0\u003c/td\u003e\n      \u003ctd\u003e1\u003c/td\u003e\n      \u003ctd\u003e1\u003c/td\u003e\n      \u003ctd\u003e3\u003c/td\u003e\n      \u003ctd\u003e3.0\u003c/td\u003e\n    \u003c/tr\u003e\n    \u003ctr\u003e\n      \u003cth\u003e2\u003c/th\u003e\n      \u003ctd\u003e4\u003c/td\u003e\n      \u003ctd\u003e1\u003c/td\u003e\n      \u003ctd\u003e1\u003c/td\u003e\n      \u003ctd\u003e64.0\u003c/td\u003e\n      \u003ctd\u003e130\u003c/td\u003e\n      \u003ctd\u003e70\u003c/td\u003e\n      \u003ctd\u003e3\u003c/td\u003e\n      \u003ctd\u003e1\u003c/td\u003e\n      \u003ctd\u003e0\u003c/td\u003e\n      \u003ctd\u003e0\u003c/td\u003e\n      \u003ctd\u003e0\u003c/td\u003e\n      \u003ctd\u003e1\u003c/td\u003e\n      \u003ctd\u003e1\u003c/td\u003e\n      \u003ctd\u003e2.0\u003c/td\u003e\n    \u003c/tr\u003e\n    \u003ctr\u003e\n      \u003cth\u003e3\u003c/th\u003e\n      \u003ctd\u003e3\u003c/td\u003e\n      \u003ctd\u003e2\u003c/td\u003e\n      \u003ctd\u003e2\u003c/td\u003e\n      \u003ctd\u003e82.0\u003c/td\u003e\n      \u003ctd\u003e150\u003c/td\u003e\n      \u003ctd\u003e100\u003c/td\u003e\n      \u003ctd\u003e1\u003c/td\u003e\n      \u003ctd\u003e1\u003c/td\u003e\n      \u003ctd\u003e0\u003c/td\u003e\n      \u003ctd\u003e0\u003c/td\u003e\n      \u003ctd\u003e1\u003c/td\u003e\n      \u003ctd\u003e1\u003c/td\u003e\n      \u003ctd\u003e2\u003c/td\u003e\n      \u003ctd\u003e3.0\u003c/td\u003e\n    \u003c/tr\u003e\n    \u003ctr\u003e\n      \u003cth\u003e4\u003c/th\u003e\n      \u003ctd\u003e3\u003c/td\u003e\n      \u003ctd\u003e1\u003c/td\u003e\n      \u003ctd\u003e1\u003c/td\u003e\n      \u003ctd\u003e56.0\u003c/td\u003e\n      \u003ctd\u003e100\u003c/td\u003e\n      \u003ctd\u003e60\u003c/td\u003e\n      \u003ctd\u003e1\u003c/td\u003e\n      \u003ctd\u003e1\u003c/td\u003e\n      \u003ctd\u003e0\u003c/td\u003e\n      \u003ctd\u003e0\u003c/td\u003e\n      \u003ctd\u003e0\u003c/td\u003e\n      \u003ctd\u003e0\u003c/td\u003e\n      \u003ctd\u003e1\u003c/td\u003e\n      \u003ctd\u003e0.0\u003c/td\u003e\n    \u003c/tr\u003e\n  \u003c/tbody\u003e\n\u003c/table\u003e\n\u003c/div\u003e",
                        "text/plain": "   age  gender  height  weight  ap_hi  ap_lo  cholesterol  gluc  smoke  alco  \\\n0    4       2       2    62.0    110     80            1     1      0     0   \n1    4       1       1    85.0    140     90            3     1      0     0   \n2    4       1       1    64.0    130     70            3     1      0     0   \n3    3       2       2    82.0    150    100            1     1      0     0   \n4    3       1       1    56.0    100     60            1     1      0     0   \n\n   active  cardio  BMI   BP  \n0       1       0    1  2.0  \n1       1       1    3  3.0  \n2       0       1    1  2.0  \n3       1       1    2  3.0  \n4       0       0    1  0.0  "
                    },
                    "execution_count": 31,
                    "metadata": {},
                    "output_type": "execute_result"
                }
            ],
            "source": [
                "# display loaded in patients\n",
                "patient_history_df"
            ]
        },
        {
            "cell_type": "code",
            "execution_count": 32,
            "metadata": {},
            "outputs": [],
            "source": [
                "# pass patient_history_df into model and obtain model_prediction on user data\n",
                "X = patient_history_df.drop(['cardio'], axis = 1) # ind. vars.\n",
                "y = patient_history_df['cardio'] # target class\n",
                "model_prediction = loaded_model.predict(X)"
            ]
        },
        {
            "cell_type": "code",
            "execution_count": 40,
            "metadata": {},
            "outputs": [
                {
                    "name": "stdout",
                    "output_type": "stream",
                    "text": "Model prediction on the 5 patients passed:              [0 1 1 1 0]\nActual disease classification on the 5 patients passed: [0 1 1 1 0]\n"
                }
            ],
            "source": [
                "# display user prediction to user and the accuracy of the model\n",
                "print(\"Model prediction on the 5 patients passed:              {0}\".format(model_prediction))\n",
                "print(\"Actual disease classification on the 5 patients passed: {0}\".format(y.values))"
            ]
        }
    ]
}
